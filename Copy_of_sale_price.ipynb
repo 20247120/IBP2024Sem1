{
  "nbformat": 4,
  "nbformat_minor": 0,
  "metadata": {
    "colab": {
      "provenance": [],
      "include_colab_link": true
    },
    "kernelspec": {
      "name": "python3",
      "display_name": "Python 3"
    },
    "language_info": {
      "name": "python"
    }
  },
  "cells": [
    {
      "cell_type": "markdown",
      "metadata": {
        "id": "view-in-github",
        "colab_type": "text"
      },
      "source": [
        "<a href=\"https://colab.research.google.com/github/20247120/IBP2024Sem1/blob/main/Copy_of_sale_price.ipynb\" target=\"_parent\"><img src=\"https://colab.research.google.com/assets/colab-badge.svg\" alt=\"Open In Colab\"/></a>"
      ]
    },
    {
      "cell_type": "markdown",
      "metadata": {
        "id": "cgTeiXOtSPjH"
      },
      "source": [
        "# Sales Price\n",
        "\n",
        "A local department store needs to develop a program that will computer the total price (including goods and services tax) of the item on sale when given an item's original price and discount percentage.\n",
        "\n",
        "## Tasks\n",
        "* Save to Github\n",
        "* Design Algorithm\n",
        "* Write and test the program in Python"
      ]
    },
    {
      "cell_type": "code",
      "metadata": {
        "id": "pPIN2ZcrSqdw",
        "colab": {
          "base_uri": "https://localhost:8080/"
        },
        "outputId": "373d8634-298d-46cc-af45-7f6e176f5c0f"
      },
      "source": [
        "#get item price, validate input is float\n",
        "while True:\n",
        "  try:\n",
        "    item_price = float(input(\"Please enter the price of the item before GST: \"))\n",
        "    break\n",
        "  except ValueError:\n",
        "    print(\"Please enter a number.\\n\")\n",
        "\n",
        "#get item discount, validate input as integer\n",
        "while True:\n",
        "  try:\n",
        "    discount_percentage = int(input(\"Please enter the % discount as a whole number: \"))\n",
        "    #also validate the discount is a valid percentage\n",
        "    if discount_percentage > 0 and discount_percentage < 101:\n",
        "      break\n",
        "    else:\n",
        "      print(\"Please enter a valid percentage.\\n\")\n",
        "  except ValueError:\n",
        "    print(\"Please enter a whole number.\\n\")\n",
        "\n",
        "#assuming GST is 10%\n",
        "final_price = (item_price - (item_price * (float)(discount_percentage/100))) * 1.1\n",
        "#round final price to 2 decimal places for readability\n",
        "final_price = round(final_price,2)\n",
        "\n",
        "print(\"The discounted price (incl. GST) is:\",final_price)"
      ],
      "execution_count": 6,
      "outputs": [
        {
          "output_type": "stream",
          "name": "stdout",
          "text": [
            "Please enter the price of the item before GST: Thirty eight\n",
            "Please enter a number.\n",
            "\n",
            "Please enter the price of the item before GST: 38.40\n",
            "Please enter the % discount as a whole number: -1\n",
            "Please enter a valid percentage.\n",
            "\n",
            "Please enter the % discount as a whole number: 110\n",
            "Please enter a valid percentage.\n",
            "\n",
            "Please enter the % discount as a whole number: 20\n",
            "The discounted price (incl. GST) is: 33.79\n"
          ]
        }
      ]
    }
  ]
}